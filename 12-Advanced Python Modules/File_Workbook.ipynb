{
 "metadata": {
  "language_info": {
   "codemirror_mode": {
    "name": "ipython",
    "version": 3
   },
   "file_extension": ".py",
   "mimetype": "text/x-python",
   "name": "python",
   "nbconvert_exporter": "python",
   "pygments_lexer": "ipython3",
   "version": 3
  },
  "orig_nbformat": 2,
  "kernelspec": {
   "name": "python_defaultSpec_1595291176777",
   "display_name": "Python 3.7.6 64-bit ('base': conda)"
  }
 },
 "nbformat": 4,
 "nbformat_minor": 2,
 "cells": [
  {
   "cell_type": "code",
   "execution_count": 1,
   "metadata": {},
   "outputs": [
    {
     "output_type": "execute_result",
     "data": {
      "text/plain": "'c:\\\\Users\\\\Stephen\\\\Documents\\\\GitHub\\\\Complete-Python-3-Bootcamp\\\\12-Advanced Python Modules'"
     },
     "metadata": {},
     "execution_count": 1
    }
   ],
   "source": [
    "pwd"
   ]
  },
  {
   "cell_type": "code",
   "execution_count": 12,
   "metadata": {
    "tags": []
   },
   "outputs": [],
   "source": [
    "f = open('practice.txt','w+')\n",
    "f.write('This is a test string')\n",
    "f.close()"
   ]
  },
  {
   "cell_type": "code",
   "execution_count": 10,
   "metadata": {
    "tags": []
   },
   "outputs": [
    {
     "output_type": "stream",
     "name": "stdout",
     "text": "C:\\Users\\Stephen\\Documents\\GitHub\\Complete-Python-3-Bootcamp\\12-Advanced Python Modules\n"
    }
   ],
   "source": [
    "cd \"Documents/GitHub/Complete-Python-3-Bootcamp/12-Advanced Python Modules\""
   ]
  },
  {
   "cell_type": "code",
   "execution_count": 11,
   "metadata": {},
   "outputs": [
    {
     "output_type": "execute_result",
     "data": {
      "text/plain": "'C:\\\\Users\\\\Stephen\\\\Documents\\\\GitHub\\\\Complete-Python-3-Bootcamp\\\\12-Advanced Python Modules'"
     },
     "metadata": {},
     "execution_count": 11
    }
   ],
   "source": [
    "pwd"
   ]
  },
  {
   "cell_type": "code",
   "execution_count": 16,
   "metadata": {
    "tags": []
   },
   "outputs": [
    {
     "output_type": "stream",
     "name": "stdout",
     "text": "C:\\Users\\Stephen\\Documents\\GitHub\\Complete-Python-3-Bootcamp\\12-Advanced Python Modules\n"
    }
   ],
   "source": [
    "cd \"Documents/GitHub/Complete-Python-3-Bootcamp/12-Advanced Python Modules\""
   ]
  },
  {
   "cell_type": "code",
   "execution_count": 2,
   "metadata": {},
   "outputs": [],
   "source": [
    "import os"
   ]
  },
  {
   "cell_type": "code",
   "execution_count": 19,
   "metadata": {},
   "outputs": [
    {
     "output_type": "execute_result",
     "data": {
      "text/plain": "'C:\\\\Users\\\\Stephen\\\\Documents\\\\GitHub\\\\Complete-Python-3-Bootcamp\\\\12-Advanced Python Modules'"
     },
     "metadata": {},
     "execution_count": 19
    }
   ],
   "source": [
    "os.getcwd()"
   ]
  },
  {
   "cell_type": "code",
   "execution_count": 23,
   "metadata": {},
   "outputs": [
    {
     "output_type": "execute_result",
     "data": {
      "text/plain": "['All Users', 'Default', 'Default User', 'desktop.ini', 'Public', 'Stephen']"
     },
     "metadata": {},
     "execution_count": 23
    }
   ],
   "source": [
    "os.listdir('C:\\\\Users')"
   ]
  },
  {
   "cell_type": "code",
   "execution_count": 3,
   "metadata": {},
   "outputs": [],
   "source": [
    "import shutil"
   ]
  },
  {
   "cell_type": "code",
   "execution_count": 25,
   "metadata": {},
   "outputs": [
    {
     "output_type": "execute_result",
     "data": {
      "text/plain": "'C:\\\\Users\\\\Stephen\\\\practice.txt'"
     },
     "metadata": {},
     "execution_count": 25
    }
   ],
   "source": [
    "shutil.move('practice.txt','C:\\\\Users\\\\Stephen')"
   ]
  },
  {
   "cell_type": "code",
   "execution_count": 4,
   "metadata": {},
   "outputs": [],
   "source": [
    "import send2trash"
   ]
  },
  {
   "cell_type": "code",
   "execution_count": 1,
   "metadata": {},
   "outputs": [
    {
     "output_type": "execute_result",
     "data": {
      "text/plain": "'c:\\\\Users\\\\Stephen\\\\Documents\\\\GitHub\\\\Complete-Python-3-Bootcamp\\\\12-Advanced Python Modules'"
     },
     "metadata": {},
     "execution_count": 1
    }
   ],
   "source": [
    "pwd"
   ]
  },
  {
   "cell_type": "code",
   "execution_count": null,
   "metadata": {},
   "outputs": [],
   "source": []
  }
 ]
}